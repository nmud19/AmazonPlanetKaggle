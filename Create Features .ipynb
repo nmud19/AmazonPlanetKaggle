{
 "cells": [
  {
   "cell_type": "code",
   "execution_count": 2,
   "metadata": {
    "collapsed": false
   },
   "outputs": [
    {
     "name": "stderr",
     "output_type": "stream",
     "text": [
      "C:\\ProgramData\\Anaconda3\\lib\\site-packages\\sklearn\\cross_validation.py:44: DeprecationWarning: This module was deprecated in version 0.18 in favor of the model_selection module into which all the refactored classes and functions are moved. Also note that the interface of the new CV iterators are different from that of this module. This module will be removed in 0.20.\n",
      "  \"This module will be removed in 0.20.\", DeprecationWarning)\n"
     ]
    }
   ],
   "source": [
    "# import libraries\n",
    "import os\n",
    "import xgboost as xgb\n",
    "import cv2\n",
    "import numpy as np\n",
    "import os\n",
    "import pandas as pd\n",
    "import random\n",
    "from tqdm import tqdm\n",
    "from multiprocessing import Pool, cpu_count\n",
    "from sklearn.ensemble import ExtraTreesRegressor\n",
    "from sklearn.metrics import fbeta_score\n",
    "\n",
    "import scipy\n",
    "from sklearn.metrics import fbeta_score\n",
    "\n",
    "from PIL import Image"
   ]
  },
  {
   "cell_type": "code",
   "execution_count": 3,
   "metadata": {
    "collapsed": true
   },
   "outputs": [],
   "source": [
    "random_seed = 2017\n",
    "random.seed(random_seed)\n",
    "np.random.seed(random_seed)\n",
    "\n",
    "# Load data\n",
    "train_path = '../data/train-jpg/train-jpg/'\n",
    "test_path = '../data/test-jpg/test-jpg/'\n",
    "train = pd.read_csv('../data/train_csv/train.csv')\n",
    "test = pd.read_csv('../data/sample_submission_csv/sample_submission.csv')"
   ]
  },
  {
   "cell_type": "code",
   "execution_count": null,
   "metadata": {
    "collapsed": true
   },
   "outputs": [],
   "source": [
    "# simple features\n",
    "def extract_features(df, data_path):\n",
    "    im_features = df.copy()\n",
    "\n",
    "    r_mean = []\n",
    "    g_mean = []\n",
    "    b_mean = []\n",
    "\n",
    "    r_std = []\n",
    "    g_std = []\n",
    "    b_std = []\n",
    "\n",
    "    r_max = []\n",
    "    g_max = []\n",
    "    b_max = []\n",
    "\n",
    "    r_min = []\n",
    "    g_min = []\n",
    "    b_min = []\n",
    "\n",
    "    r_kurtosis = []\n",
    "    g_kurtosis = []\n",
    "    b_kurtosis = []\n",
    "    \n",
    "    r_skewness = []\n",
    "    g_skewness = []\n",
    "    b_skewness = []\n",
    "\n",
    "    for image_name in tqdm(im_features.image_name.values, miniters=100): \n",
    "        im = Image.open(data_path + image_name + '.jpg')\n",
    "        im = np.array(im)[:,:,:3]\n",
    "\n",
    "        r_mean.append(np.mean(im[:,:,0].ravel()))\n",
    "        g_mean.append(np.mean(im[:,:,1].ravel()))\n",
    "        b_mean.append(np.mean(im[:,:,2].ravel()))\n",
    "\n",
    "        r_std.append(np.std(im[:,:,0].ravel()))\n",
    "        g_std.append(np.std(im[:,:,1].ravel()))\n",
    "        b_std.append(np.std(im[:,:,2].ravel()))\n",
    "\n",
    "        r_max.append(np.max(im[:,:,0].ravel()))\n",
    "        g_max.append(np.max(im[:,:,1].ravel()))\n",
    "        b_max.append(np.max(im[:,:,2].ravel()))\n",
    "\n",
    "        r_min.append(np.min(im[:,:,0].ravel()))\n",
    "        g_min.append(np.min(im[:,:,1].ravel()))\n",
    "        b_min.append(np.min(im[:,:,2].ravel()))\n",
    "\n",
    "        r_kurtosis.append(scipy.stats.kurtosis(im[:,:,0].ravel()))\n",
    "        g_kurtosis.append(scipy.stats.kurtosis(im[:,:,1].ravel()))\n",
    "        b_kurtosis.append(scipy.stats.kurtosis(im[:,:,2].ravel()))\n",
    "        \n",
    "        r_skewness.append(scipy.stats.skew(im[:,:,0].ravel()))\n",
    "        g_skewness.append(scipy.stats.skew(im[:,:,1].ravel()))\n",
    "        b_skewness.append(scipy.stats.skew(im[:,:,2].ravel()))\n",
    "\n",
    "\n",
    "    im_features['r_mean'] = r_mean\n",
    "    im_features['g_mean'] = g_mean\n",
    "    im_features['b_mean'] = b_mean\n",
    "\n",
    "    im_features['r_std'] = r_std\n",
    "    im_features['g_std'] = g_std\n",
    "    im_features['b_std'] = b_std\n",
    "\n",
    "    im_features['r_max'] = r_max\n",
    "    im_features['g_max'] = g_max\n",
    "    im_features['b_max'] = b_max\n",
    "\n",
    "    im_features['r_min'] = r_min\n",
    "    im_features['g_min'] = g_min\n",
    "    im_features['b_min'] = b_min\n",
    "\n",
    "    im_features['r_range'] = im_features['r_max'] - im_features['r_min']\n",
    "    im_features['g_range'] = im_features['g_max'] - im_features['g_min']\n",
    "    im_features['b_range'] = im_features['b_max'] - im_features['b_min']\n",
    "\n",
    "    im_features['r_kurtosis'] = r_kurtosis\n",
    "    im_features['g_kurtosis'] = g_kurtosis\n",
    "    im_features['b_kurtosis'] = b_kurtosis\n",
    "    \n",
    "    im_features['r_skewness'] = r_skewness\n",
    "    im_features['g_skewness'] = g_skewness\n",
    "    im_features['b_skewness'] = b_skewness\n",
    "    \n",
    "    return im_features"
   ]
  },
  {
   "cell_type": "code",
   "execution_count": null,
   "metadata": {
    "collapsed": false
   },
   "outputs": [],
   "source": [
    "train_features.head()"
   ]
  },
  {
   "cell_type": "code",
   "execution_count": null,
   "metadata": {
    "collapsed": false
   },
   "outputs": [],
   "source": [
    "# Extract features\n",
    "print('Extracting train features')\n",
    "train_features = extract_features(train, train_path)\n",
    "print('Extracting test features')\n",
    "test_features = extract_features(test, test_path)"
   ]
  },
  {
   "cell_type": "code",
   "execution_count": null,
   "metadata": {
    "collapsed": true
   },
   "outputs": [],
   "source": [
    "train_features.to_csv(\"../intermediate/train_simple_feats.csv\", index = 0)\n",
    "test_features.to_csv(\"../intermediate/test_simple_feats.csv\", index = 0)\n"
   ]
  },
  {
   "cell_type": "code",
   "execution_count": null,
   "metadata": {
    "collapsed": true
   },
   "outputs": [],
   "source": [
    "def rounded_rect(df, data_path):\n",
    "    im_features = df.copy()\n",
    "    no_of_rectangles_grey = []\n",
    "    no_of_rectangles_threshold = []\n",
    "    for image_name in tqdm(im_features.image_name.values, miniters=100): \n",
    "        im = cv2.imread(data_path + image_name + '.jpg', 0)     \n",
    "        _,thresh = cv2.threshold(im,127,255,cv2.THRESH_BINARY) # threshold\n",
    "        contours = cv2.findContours(im,cv2.RETR_EXTERNAL,cv2.CHAIN_APPROX_NONE)[-2] # get contours\n",
    "        contours2 = cv2.findContours(thresh,cv2.RETR_EXTERNAL,cv2.CHAIN_APPROX_NONE)[-2] # get contours\n",
    "        no_of_rectangles_grey.append(len(contours))\n",
    "        no_of_rectangles_threshold.append(len(contours2))\n",
    "    im_features[\"no_of_rectangles_grey\"] = no_of_rectangles_grey\n",
    "    im_features[\"no_of_rectangles_threshold\"] = no_of_rectangles_threshold\n",
    "    return im_features\n"
   ]
  },
  {
   "cell_type": "code",
   "execution_count": null,
   "metadata": {
    "collapsed": false
   },
   "outputs": [],
   "source": [
    "# Extract features\n",
    "print('Extracting train features')\n",
    "train_features = rounded_rect(train, train_path)\n",
    "print('Extracting test features')\n",
    "test_features = rounded_rect(test, test_path)"
   ]
  },
  {
   "cell_type": "code",
   "execution_count": null,
   "metadata": {
    "collapsed": false
   },
   "outputs": [],
   "source": [
    "train_features.to_csv(\"../intermediate/train_simple_feats_v2.csv\", index = 0)\n",
    "test_features.to_csv(\"../intermediate/test_simple_feats_v2.csv\", index = 0)\n"
   ]
  },
  {
   "cell_type": "code",
   "execution_count": 4,
   "metadata": {
    "collapsed": false
   },
   "outputs": [],
   "source": [
    "train_features = pd.read_csv(\"../intermediate/train_simple_feats_v3.csv\")\n",
    "test_features = pd.read_csv(\"../intermediate/test_simple_feats_v3.csv\")"
   ]
  },
  {
   "cell_type": "code",
   "execution_count": 5,
   "metadata": {
    "collapsed": true
   },
   "outputs": [],
   "source": [
    "def rounded_rect_v2(df, data_path):\n",
    "    im_features = df.copy()\n",
    "    no_of_rectangles_grey = []\n",
    "    no_of_rectangles_threshold = []\n",
    "    for image_name in tqdm(im_features.image_name.values, miniters=100): \n",
    "        im = cv2.imread(data_path + image_name + '.jpg', 0)     \n",
    "        _,thresh = cv2.threshold(im,175,255,cv2.THRESH_BINARY) # threshold\n",
    "        contours = cv2.findContours(im,cv2.RETR_EXTERNAL,cv2.CHAIN_APPROX_NONE)[-2] # get contours\n",
    "        contours2 = cv2.findContours(thresh,cv2.RETR_EXTERNAL,cv2.CHAIN_APPROX_NONE)[-2] # get contours\n",
    "        no_of_rectangles_grey.append(len(contours))\n",
    "        no_of_rectangles_threshold.append(len(contours2))\n",
    "    im_features[\"no_of_rectangles_grey_v2\"] = no_of_rectangles_grey\n",
    "#     im_features[\"no_of_rectangles_threshold\"] = no_of_rectangles_threshold\n",
    "    return im_features"
   ]
  },
  {
   "cell_type": "code",
   "execution_count": 6,
   "metadata": {
    "collapsed": false
   },
   "outputs": [
    {
     "name": "stdout",
     "output_type": "stream",
     "text": [
      "Extracting train features\n"
     ]
    },
    {
     "name": "stderr",
     "output_type": "stream",
     "text": [
      "100%|███████████████████████████████████| 40479/40479 [06:31<00:00, 103.32it/s]\n"
     ]
    },
    {
     "name": "stdout",
     "output_type": "stream",
     "text": [
      "Extracting test features\n"
     ]
    },
    {
     "name": "stderr",
     "output_type": "stream",
     "text": [
      "100%|███████████████████████████████████| 40669/40669 [06:09<00:00, 110.01it/s]\n"
     ]
    }
   ],
   "source": [
    "# Extract features\n",
    "print('Extracting train features')\n",
    "train_features = rounded_rect_v2(train_features, train_path)\n",
    "print('Extracting test features')\n",
    "test_features = rounded_rect_v2(test_features, test_path)"
   ]
  },
  {
   "cell_type": "code",
   "execution_count": null,
   "metadata": {
    "collapsed": false
   },
   "outputs": [],
   "source": [
    "train_features[\"no_of_tags\"] = train_features.tags.apply(lambda x : len(x.split(\" \")))\n",
    "test_features[\"no_of_tags\"] = test_features.tags.apply(lambda x : len(x.split(\" \")))\n"
   ]
  },
  {
   "cell_type": "code",
   "execution_count": null,
   "metadata": {
    "collapsed": false
   },
   "outputs": [],
   "source": [
    "train_features"
   ]
  },
  {
   "cell_type": "code",
   "execution_count": null,
   "metadata": {
    "collapsed": true
   },
   "outputs": [],
   "source": [
    "def get_features(path):\n",
    "    try:\n",
    "        st = []\n",
    "        #pillow jpg\n",
    "        img = Image.open(path)\n",
    "        im_stats_ = ImageStat.Stat(img)\n",
    "        st += im_stats_.sum\n",
    "        st += im_stats_.mean\n",
    "        st += im_stats_.rms\n",
    "        st += im_stats_.var\n",
    "        st += im_stats_.stddev\n",
    "        img = np.array(img)[:,:,:3]\n",
    "        st += [scipy.stats.kurtosis(img[:,:,0].ravel())]\n",
    "        st += [scipy.stats.kurtosis(img[:,:,1].ravel())]\n",
    "        st += [scipy.stats.kurtosis(img[:,:,2].ravel())]\n",
    "        st += [scipy.stats.skew(img[:,:,0].ravel())]\n",
    "        st += [scipy.stats.skew(img[:,:,1].ravel())]\n",
    "        st += [scipy.stats.skew(img[:,:,2].ravel())]\n",
    "        #cv2 jpg\n",
    "        img = cv2.imread(path)\n",
    "        bw = cv2.imread(path,0)\n",
    "        st += list(cv2.calcHist([bw],[0],None,[256],[0,256]).flatten()) #bw \n",
    "        st += list(cv2.calcHist([img],[0],None,[256],[0,256]).flatten()) #r\n",
    "        st += list(cv2.calcHist([img],[1],None,[256],[0,256]).flatten()) #g\n",
    "        st += list(cv2.calcHist([img],[2],None,[256],[0,256]).flatten()) #b\n",
    "        try:\n",
    "            #skimage tif\n",
    "            tf = io.imread(path.replace('jpg','tif'))[:, :, 3]\n",
    "            st += list(cv2.calcHist([tf],[0],None,[256],[0,65536]).flatten()) #near ifrared\n",
    "        except:\n",
    "            st += [-1 for i in range(256)]\n",
    "            print('err', path.replace('jpg','tif'))\n",
    "        m, s = cv2.meanStdDev(img) #mean and standard deviation\n",
    "        st += list(m)\n",
    "        st += list(s)\n",
    "        st += [cv2.Laplacian(bw, cv2.CV_64F).var()] \n",
    "        st += [cv2.Laplacian(img, cv2.CV_64F).var()]\n",
    "        st += [cv2.Sobel(bw,cv2.CV_64F,1,0,ksize=5).var()]\n",
    "        st += [cv2.Sobel(bw,cv2.CV_64F,0,1,ksize=5).var()]\n",
    "        st += [cv2.Sobel(img,cv2.CV_64F,1,0,ksize=5).var()]\n",
    "        st += [cv2.Sobel(img,cv2.CV_64F,0,1,ksize=5).var()]\n",
    "        st += [(bw<30).sum()]\n",
    "        st += [(bw>225).sum()]\n",
    "    except:\n",
    "        print(path)\n",
    "    return [path, st]\n",
    "\n",
    "def normalize_img(paths):\n",
    "    imf_d = {}\n",
    "    p = Pool(cpu_count())\n",
    "    ret = p.map(get_features, paths)\n",
    "    for i in range(len(ret)):\n",
    "        imf_d[ret[i][0]] = ret[i][1]\n",
    "    ret = []\n",
    "    fdata = [imf_d[f] for f in paths]\n",
    "    return fdata"
   ]
  },
  {
   "cell_type": "code",
   "execution_count": null,
   "metadata": {
    "collapsed": false
   },
   "outputs": [],
   "source": [
    "\n",
    "# Prepare data\n",
    "X = np.array(train_features.drop(['image_name', 'tags'], axis=1))\n",
    "y_train = []\n",
    "\n",
    "flatten = lambda l: [item for sublist in l for item in sublist]\n",
    "labels = np.array(list(set(flatten([l.split(' ') for l in train_features['tags'].values]))))\n",
    "\n",
    "label_map = {l: i for i, l in enumerate(labels)}\n",
    "inv_label_map = {i: l for l, i in label_map.items()}\n",
    "\n",
    "for tags in tqdm(train.tags.values, miniters=1000):\n",
    "    targets = np.zeros(17)\n",
    "    for t in tags.split(' '):\n",
    "        targets[label_map[t]] = 1 \n",
    "    y_train.append(targets)\n",
    "    \n",
    "y = np.array(y_train, np.uint8)\n",
    "\n",
    "print('X.shape = ' + str(X.shape))\n",
    "print('y.shape = ' + str(y.shape))\n",
    "\n",
    "n_classes = y.shape[1]\n",
    "\n",
    "X_test = np.array(test_features.drop(['image_name', 'tags'], axis=1))\n",
    "\n",
    "# Train and predict with one-vs-all strategy\n",
    "y_pred = np.zeros((X_test.shape[0], n_classes))"
   ]
  },
  {
   "cell_type": "code",
   "execution_count": null,
   "metadata": {
    "collapsed": false
   },
   "outputs": [],
   "source": [
    "y_pred"
   ]
  },
  {
   "cell_type": "code",
   "execution_count": null,
   "metadata": {
    "collapsed": false
   },
   "outputs": [],
   "source": [
    "etr = ExtraTreesRegressor(n_estimators=50, max_depth=30, n_jobs=-1, random_state=1)\n",
    "etr.fit(X, y); print('etr fit...')\n",
    "\n",
    "train_pred = etr.predict(X)\n",
    "train_pred[train_pred > 0.21] = 1\n",
    "train_pred[train_pred < 1] = 0\n",
    "print(fbeta_score(y,train_pred,beta=2, average='samples'))\n",
    "\n",
    "pred1 = etr.predict(X_test); print('etr predict...')\n",
    "etr_test = pd.DataFrame(pred1)\n",
    "etr_test['image_name'] =  test[['image_name']]"
   ]
  },
  {
   "cell_type": "code",
   "execution_count": null,
   "metadata": {
    "collapsed": true
   },
   "outputs": [],
   "source": [
    "pred1 = [' '.join(labels[y_pred_row > 0.1]) for y_pred_row in y_pred]\n",
    "\n",
    "subm = pd.DataFrame()\n",
    "subm['image_name'] = test_features.image_name.values\n",
    "subm['tags'] = pred1\n",
    "subm.to_csv('../output/extra_tress2.csv', index=False)"
   ]
  },
  {
   "cell_type": "code",
   "execution_count": null,
   "metadata": {
    "collapsed": false
   },
   "outputs": [],
   "source": [
    "pred1"
   ]
  },
  {
   "cell_type": "code",
   "execution_count": null,
   "metadata": {
    "collapsed": false
   },
   "outputs": [],
   "source": [
    "y_train"
   ]
  },
  {
   "cell_type": "code",
   "execution_count": 7,
   "metadata": {
    "collapsed": false
   },
   "outputs": [
    {
     "name": "stderr",
     "output_type": "stream",
     "text": [
      "100%|████████████████████████████████| 40479/40479 [00:00<00:00, 371367.90it/s]\n"
     ]
    },
    {
     "name": "stdout",
     "output_type": "stream",
     "text": [
      "X.shape = (40479, 23)\n",
      "y.shape = (40479, 17)\n",
      "Training and making predictions\n"
     ]
    },
    {
     "name": "stderr",
     "output_type": "stream",
     "text": [
      "100%|██████████████████████████████████████████| 17/17 [11:38<00:00, 39.66s/it]\n"
     ]
    }
   ],
   "source": [
    "\n",
    "# Prepare data\n",
    "X = np.array(train_features.drop(['image_name', 'tags'], axis=1))\n",
    "y_train = []\n",
    "\n",
    "flatten = lambda l: [item for sublist in l for item in sublist]\n",
    "labels = np.array(list(set(flatten([l.split(' ') for l in train_features['tags'].values]))))\n",
    "\n",
    "label_map = {l: i for i, l in enumerate(labels)}\n",
    "inv_label_map = {i: l for l, i in label_map.items()}\n",
    "\n",
    "for tags in tqdm(train.tags.values, miniters=1000):\n",
    "    targets = np.zeros(17)\n",
    "    for t in tags.split(' '):\n",
    "        targets[label_map[t]] = 1 \n",
    "    y_train.append(targets)\n",
    "    \n",
    "y = np.array(y_train, np.uint8)\n",
    "\n",
    "print('X.shape = ' + str(X.shape))\n",
    "print('y.shape = ' + str(y.shape))\n",
    "\n",
    "n_classes = y.shape[1]\n",
    "\n",
    "X_test = np.array(test_features.drop(['image_name', 'tags'], axis=1))\n",
    "\n",
    "# Train and predict with one-vs-all strategy\n",
    "y_pred = np.zeros((X_test.shape[0], n_classes))\n",
    "\n",
    "print('Training and making predictions')\n",
    "for class_i in tqdm(range(n_classes), miniters=1): \n",
    "    model = xgb.XGBClassifier(max_depth=11, learning_rate=0.01, n_estimators=1000, \\\n",
    "                              silent=True, objective='binary:logistic', nthread=-1, \\\n",
    "                              gamma=0, min_child_weight=3, max_delta_step=0, \\\n",
    "                              subsample=1, colsample_bytree=0.8, colsample_bylevel=0.8, \\\n",
    "                              reg_alpha=0, reg_lambda=4, scale_pos_weight=1, \\\n",
    "                              base_score=0.5, seed=random_seed, missing=None)\n",
    "    model.fit(X, y[:, class_i])\n",
    "    y_pred[:, class_i] = model.predict_proba(X_test)[:, 1]\n",
    "\n"
   ]
  },
  {
   "cell_type": "code",
   "execution_count": 8,
   "metadata": {
    "collapsed": true
   },
   "outputs": [],
   "source": [
    "preds = [' '.join(labels[y_pred_row > 0.50]) for y_pred_row in y_pred]\n",
    "\n",
    "subm = pd.DataFrame()\n",
    "subm['image_name'] = test_features.image_name.values\n",
    "subm['tags'] = preds\n",
    "subm.to_csv('../output/submission_2_rounded_rect.csv', index=False)"
   ]
  },
  {
   "cell_type": "code",
   "execution_count": 9,
   "metadata": {
    "collapsed": false
   },
   "outputs": [],
   "source": [
    "train_features.to_csv(\"train_v4.csv\", index=0)\n",
    "test_features.to_csv(\"test_v4.csv\", index=0)"
   ]
  },
  {
   "cell_type": "code",
   "execution_count": null,
   "metadata": {
    "collapsed": true
   },
   "outputs": [],
   "source": []
  }
 ],
 "metadata": {
  "kernelspec": {
   "display_name": "Python 3",
   "language": "python",
   "name": "python3"
  },
  "language_info": {
   "codemirror_mode": {
    "name": "ipython",
    "version": 3
   },
   "file_extension": ".py",
   "mimetype": "text/x-python",
   "name": "python",
   "nbconvert_exporter": "python",
   "pygments_lexer": "ipython3",
   "version": "3.6.0"
  }
 },
 "nbformat": 4,
 "nbformat_minor": 2
}
